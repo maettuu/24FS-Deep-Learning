{
  "cells": [
    {
      "cell_type": "markdown",
      "metadata": {
        "id": "W4fz5OY7P7oS"
      },
      "source": [
        "# Assignment 1: Perceptron Learning\n",
        "\n",
        "The goal of this exercise is to apply the perceptron learning to a total of $N=100$ automatically generated, separable random data $X=\\bigl\\{\\vec x^1, \\vec x^2,\\ldots,\\vec x^ N \\bigr\\}$ with each $\\vec x^n = \\bigl(x_1^n, x_2^n\\bigr)^T$.\n",
        "Each data point $\\vec x^n$ is accompanied by an according target value $X=\\bigl\\{t^1, t^2,\\ldots,t^ N\\bigr\\}$ with $t^n \\in \\{-1,+1\\}$.\n",
        "\n",
        "## Data Generation\n",
        "The data should be generated such that\n",
        "$\\forall n\\leq\\frac N2\\colon \\vec x^n \\sim \\mathcal N_{\\vec\\mu_+, \\sigma_+}$.\n",
        "These samples will be our positive data labeled with $t^n=1$.\n",
        "Similarly, we generate our negative data with\n",
        "$\\forall n>\\frac N2\\colon \\vec x^n \\sim \\mathcal N_{\\vec\\mu_-, \\sigma_-}$\n",
        "and label them as $t^n=-1$.\n",
        "\n",
        "### Task 1: Data Samples\n",
        "\n",
        "Given the number of samples and the means (mu) and standard deviations (sigma) of positive (pos) and negative (neg) data, generate and return data samples including their labels. Remember to add the bias neuron $x_0=1$ to each of the samples.\n",
        "\n",
        "Hints:\n",
        "1. Use `numpy` package to generate data.\n",
        "2. Exemplary means could be selected as: $\\vec\\mu_+=(-5,3)^T$ and $\\vec\\mu_- = (5, -3)^T$. The standard deviations $\\sigma_+$ and $\\sigma_-$ should be selected such that the data is most likely separable."
      ]
    },
    {
      "cell_type": "code",
      "execution_count": null,
      "metadata": {
        "id": "qRiw3sA0P7oT"
      },
      "outputs": [],
      "source": [
        "import numpy\n",
        "\n",
        "def dataset(number_of_samples, mu_pos, sigma_pos, mu_neg, sigma_neg):\n",
        "  # data sizes\n",
        "  positive_data_size = number_of_samples // 2\n",
        "  negative_data_size = number_of_samples - positive_data_size\n",
        "\n",
        "  # create positive and negative data using joint distribution for all features\n",
        "  positive_data = numpy.random.normal(loc=mu_pos, scale=sigma_pos, size=(positive_data_size, 2))\n",
        "  negative_data = numpy.random.normal(loc=mu_neg, scale=sigma_neg, size=(negative_data_size, 2))\n",
        "\n",
        "  # create positive and negative data using separate distributions per feature\n",
        "  # positive_data = numpy.array([\n",
        "  #     numpy.random.normal(loc=mu_pos[0], scale=sigma_pos[0], size=positive_data_size),\n",
        "  #     numpy.random.normal(loc=mu_pos[1], scale=sigma_pos[1], size=positive_data_size)\n",
        "  # ]).T\n",
        "  # negative_data = numpy.array([\n",
        "  #     numpy.random.normal(loc=mu_neg[0], scale=sigma_neg[0], size=negative_data_size),\n",
        "  #     numpy.random.normal(loc=mu_neg[0], scale=sigma_neg[0], size=negative_data_size)\n",
        "  # ]).T\n",
        "\n",
        "  # assign positive and negative labels\n",
        "  positive_labels = numpy.ones(positive_data_size)\n",
        "  negative_labels = numpy.negative(numpy.ones(negative_data_size))\n",
        "\n",
        "  # concatenate positive and negative data\n",
        "  all_data = numpy.vstack((positive_data, negative_data))\n",
        "  all_labels = numpy.hstack((positive_labels, negative_labels))\n",
        "\n",
        "  # anything else to consider? -> add bias neuron\n",
        "  all_data = numpy.hstack((numpy.ones((all_data.shape[0], 1)), all_data))\n",
        "\n",
        "  # return both X and T\n",
        "  return all_data, all_labels"
      ]
    },
    {
      "cell_type": "markdown",
      "metadata": {
        "id": "0pJZMCLaP7oU"
      },
      "source": [
        "### Task 2: Select Data Parameters and Line Parameters\n",
        "\n",
        "We want to select data points such that we exactly know where the ideal separating line should be placed.\n",
        "Note that data samples are not always separable since they are generated randomly.\n",
        "You should determine, which means and standard deviations are useful.\n",
        "\n",
        "Once you have defined your means, you should also define the separating line.\n",
        "The easiest is to provide it as Cartesian equation: $w_0 + w_1 x_1 + w_2 x_2$.\n",
        "Note that the separating line is orthogonal to the vector $\\overrightarrow{\\vec\\mu_- \\vec\\mu_+}$, that the normal of the line $(w_1, w_2)^T$ is orthogonal to the line, and that $w_0$ should be selected such that the line $\\vec w$ is in the middle of $\\vec\\mu_+$ and $\\vec\\mu_-$."
      ]
    },
    {
      "cell_type": "code",
      "execution_count": null,
      "metadata": {
        "id": "Pcy00gcFP7oV"
      },
      "outputs": [],
      "source": [
        "# define mu_pos, mu_neg, sigma_pos, sigma_neg\n",
        "mu_pos = numpy.array([-5, 3])\n",
        "mu_neg = numpy.array([5, -3])\n",
        "sigma_pos = numpy.array([1, 1])\n",
        "sigma_neg = numpy.array([1, 1])\n",
        "\n",
        "# create dataset\n",
        "X, T = dataset(100, mu_pos=mu_pos, sigma_pos=sigma_pos, mu_neg=mu_neg , sigma_neg=sigma_neg)\n",
        "\n",
        "# compute optimal weights using least squares approximation [(X.T*X)^-1]*[X.T*T]\n",
        "w_manual = numpy.linalg.lstsq(X, T, rcond=None)[0]"
      ]
    },
    {
      "cell_type": "markdown",
      "metadata": {
        "id": "Nh3RcF7yP7oV"
      },
      "source": [
        "### Test 1: Linear Separability Test\n",
        "\n",
        "A line $a = f_{\\vec w}(\\vec x) = w_0 + w_1 x_1 + w_2 x_2$ linearly separates the data $(X,T)$ if $\\forall n: a^{[n]} t^{[n]} > 0$ for $a^{[n]} = f_{\\vec w}(\\vec x^{[n]})$.\n",
        "The below function implements this linear separability test. We apply this test to your data $(X,T)$ from Task 1 and your manually selected line $\\vec w$ from Task 2 to assure that the line separates the data."
      ]
    },
    {
      "cell_type": "code",
      "execution_count": null,
      "metadata": {
        "colab": {
          "base_uri": "https://localhost:8080/"
        },
        "id": "_pc2lObeP7oV",
        "outputId": "8397782c-72f1-4220-e6d8-6254cfb52a99"
      },
      "outputs": [
        {
          "output_type": "stream",
          "name": "stdout",
          "text": [
            "The data is separated by the manually selected line\n"
          ]
        }
      ],
      "source": [
        "def separability_test(X, T, w):\n",
        "  return numpy.all(numpy.dot(X,w) * T > 0)\n",
        "\n",
        "# Test 1: check that the weights are separating the data\n",
        "if separability_test(X, T, w_manual):\n",
        "  print(\"The data is separated by the manually selected line\")\n",
        "else:\n",
        "  print(\"The anually selected line does not separate the data\")"
      ]
    },
    {
      "cell_type": "markdown",
      "metadata": {
        "id": "hmgK2cilP7oW"
      },
      "source": [
        "### Task 3: Perceptron\n",
        "\n",
        "The perceptron is defined as the Adaline $$a = f_{\\vec w}(\\vec x)$$ that is thresholded using the sign function $$\\mathrm{sign}(a) = \\begin{cases} +1 &\\text{if } a \\geq 0\\\\ -1 & \\text{otherwise.}\\end{cases}$$\n",
        "Implement a function that computes and returns the perceptron for a given data point $\\vec x$ and line parameters $\\vec w$."
      ]
    },
    {
      "cell_type": "code",
      "execution_count": null,
      "metadata": {
        "id": "qEVbv2-OP7oW"
      },
      "outputs": [],
      "source": [
        "def perceptron(x, w):\n",
        "  # compute dot product and compare to zero\n",
        "  return 1 if numpy.dot(x, w) >= 0 else -1"
      ]
    },
    {
      "cell_type": "markdown",
      "metadata": {
        "id": "C72mmjbqP7oX"
      },
      "source": [
        "## Perceptron Learning\n",
        "\n",
        "The perceptron learning rule is defined as follows.\n",
        "First, the weights $\\vec w = (w_0, w_1, w_2)^T$ are initialized randomly.\n",
        "Then, for each sample $(x,t)$ of the dataset we check if the sample is correctly classified as $H(f_{\\vec w}(\\vec x)) t > 0$.\n",
        "If the sample is classified incorrectly, the weights are adapted: $w_0 = w_0 + t$, $w_1 = w_1 + tx_1$, $w_2 = w_2 + tx_2$.\n",
        "This step is repeated until all samples are classified correctly.\n",
        "\n",
        "\n",
        "### Task 4: Perceptron Learning Implementation\n",
        "\n",
        "Implement a function that performs perceptron learning for a given dataset $(X,T)$ and a given initial weight vector $\\vec w$.\n",
        "The final weight vector $\\vec w^*$ shall be returned from that function.\n",
        "Define a proper stopping criterion for the iteration.\n",
        "Consider in your implementation error cases that could arise.\n"
      ]
    },
    {
      "cell_type": "code",
      "execution_count": null,
      "metadata": {
        "id": "9HSMnZsAP7oY"
      },
      "outputs": [],
      "source": [
        "def perceptron_learning(X, T, w):\n",
        "  # first, make a copy of your weights\n",
        "  w_star = w.copy()\n",
        "\n",
        "  # stopping criterion\n",
        "  num_iterations = 1000\n",
        "  counter = 0\n",
        "\n",
        "  # then, iterate over the data and perform perceptron learning\n",
        "  # initialize by computing perceptron for every sample\n",
        "  result = numpy.apply_along_axis(perceptron, 1, X, w_star)\n",
        "  # find wrongly classified samples\n",
        "  wrongly_classified = numpy.flatnonzero(result != T)\n",
        "\n",
        "  # loop as long as there are wrongly classified samples (or stopping criterion is reached)\n",
        "  while wrongly_classified.size != 0 and counter < num_iterations:\n",
        "    counter += 1\n",
        "    # get index of first wrongly classified sample\n",
        "    first_occurrence = wrongly_classified[0]\n",
        "    # re-compute the weights w + t*x\n",
        "    w_star = w_star + T[first_occurrence]*X[first_occurrence]\n",
        "    # re-compute perceptron for every sample\n",
        "    result = numpy.apply_along_axis(perceptron, 1, X, w_star)\n",
        "    # find indices of wrongly classified samples\n",
        "    wrongly_classified = numpy.flatnonzero(result != T)\n",
        "\n",
        "  # finally, return the optimal weights\n",
        "  return w_star"
      ]
    },
    {
      "cell_type": "markdown",
      "metadata": {
        "id": "RZGtCF8jP7oY"
      },
      "source": [
        "### Test 2: Sanity Check\n",
        "\n",
        "We call the perceptron learning function with the data from task 1 and the manual line from task 2. If the line separates the data, it should not be changed. Here we test if this is the actual outcome of the perceptron learning function."
      ]
    },
    {
      "cell_type": "code",
      "execution_count": null,
      "metadata": {
        "colab": {
          "base_uri": "https://localhost:8080/"
        },
        "id": "gsoiHySvP7oZ",
        "outputId": "e7586386-c53d-412a-f2e8-574ecfdd4042"
      },
      "outputs": [
        {
          "output_type": "stream",
          "name": "stdout",
          "text": [
            "As desired, perceptron learning does not optimize an already separating line\n"
          ]
        }
      ],
      "source": [
        "w_star = perceptron_learning(X, T, w_manual)\n",
        "\n",
        "# check if the output is as expected\n",
        "if numpy.any(w_manual != w_star):\n",
        "    print(\"Warning: the perceptron algorithm seems to be wrong\")\n",
        "else:\n",
        "    print(\"As desired, perceptron learning does not optimize an already separating line\")"
      ]
    },
    {
      "cell_type": "markdown",
      "metadata": {
        "id": "xuTpkVbkP7oZ"
      },
      "source": [
        "### Task 5: Weight Initialization\n",
        "\n",
        "Implement a function that generates and returns randomly initialized weights $\\vec w \\in [-1,1]^3$."
      ]
    },
    {
      "cell_type": "code",
      "execution_count": null,
      "metadata": {
        "id": "QBrckf8KP7oa"
      },
      "outputs": [],
      "source": [
        "def random_weights(lowest = -1, highest = 1):\n",
        "  return numpy.random.uniform(lowest, highest, size=3)"
      ]
    },
    {
      "cell_type": "markdown",
      "metadata": {
        "id": "8ErDBLjEP7oa"
      },
      "source": [
        "### Task 6: Perceptron Learning Execution\n",
        "\n",
        "Call the perceptron learning function with the data from task 1 and the randomly generated initial weight vector from task 5.\n",
        "Store the resulting weight vector $\\vec w^*$."
      ]
    },
    {
      "cell_type": "code",
      "execution_count": null,
      "metadata": {
        "id": "kaJLbpCgP7oa"
      },
      "outputs": [],
      "source": [
        "# create random weights\n",
        "w_initial = random_weights()\n",
        "\n",
        "# perform perceptron learning\n",
        "w_star = perceptron_learning(X, T, w_initial)"
      ]
    },
    {
      "cell_type": "markdown",
      "metadata": {
        "id": "qzicpaLhP7ob"
      },
      "source": [
        "### Test 3: Result Validation\n",
        "\n",
        "We verify that the optimized $\\vec w^*$ actually separates the data."
      ]
    },
    {
      "cell_type": "code",
      "execution_count": null,
      "metadata": {
        "colab": {
          "base_uri": "https://localhost:8080/"
        },
        "id": "CMedg_yDP7oc",
        "outputId": "033c812b-89e7-4cc7-bd9a-ab08de87762f"
      },
      "outputs": [
        {
          "output_type": "stream",
          "name": "stdout",
          "text": [
            "The data is separated by the optimal line\n"
          ]
        }
      ],
      "source": [
        "# verify that we have learned to separate the data\n",
        "if separability_test(X, T, w_star):\n",
        "  print(\"The data is separated by the optimal line\")\n",
        "else:\n",
        "  print(\"The optimal line does not separate the data\")"
      ]
    },
    {
      "cell_type": "markdown",
      "metadata": {
        "id": "T1G7C49sP7oc"
      },
      "source": [
        "## Visualization\n",
        "\n",
        "We have selected our data to be 2-dimensional to be able to visualize the results.\n",
        "For this purpose, we would like to jointly plot the positive and the negative data from Task 1 together with the decision boundaries of the weight vectors obtained in Tasks 2 and 6.\n",
        "An example can be found in the exercise slides.\n",
        "\n",
        "### Task 7: Plotting\n",
        "\n",
        "First, we need to plot the data points such that positive data are plotted with green dots, and negative data with red dots.\n",
        "\n",
        "Then, we need to compute the line parameters. For this purpose, we define the separating line in Cartesian coordinates $f_{\\vec w}(\\vec x) = 0$ and solve it to the parametric form $x_2 = \\beta x_1 + \\gamma$."
      ]
    },
    {
      "cell_type": "code",
      "execution_count": null,
      "metadata": {
        "colab": {
          "base_uri": "https://localhost:8080/",
          "height": 676
        },
        "id": "qTNmUD01P7oc",
        "outputId": "cadbba14-a5a4-4b08-c357-a9ecef3e72b6"
      },
      "outputs": [
        {
          "output_type": "display_data",
          "data": {
            "text/plain": [
              "<Figure size 800x800 with 1 Axes>"
            ],
            "image/png": "[encoded data removed]"
          },
          "metadata": {}
        }
      ],
      "source": [
        "def line_parameters(w):\n",
        "  # compute parametric line parameters from Cartesian coordinates\n",
        "  beta = -w[1]/w[2]\n",
        "  gamma = -w[0]/w[2]\n",
        "  return beta, gamma\n",
        "\n",
        "\n",
        "from matplotlib import pyplot\n",
        "\n",
        "# create a square plot\n",
        "pyplot.figure(figsize=(8,8))\n",
        "\n",
        "# plot the positive data points\n",
        "pyplot.plot(X[T>0, 1], X[T>0, 2], \"g.\", label=\"positive data\")\n",
        "# plot the negative data points\n",
        "pyplot.plot(X[T<0, 1], X[T<0, 2], \"r.\", label=\"negative data\")\n",
        "\n",
        "# define positions where to evaluate the line:\n",
        "x1 = numpy.linspace(-8,8)\n",
        "\n",
        "# compute line parameters for manual line\n",
        "beta, gamma = line_parameters(w_manual)\n",
        "# now, compute the values according to our parametric form:\n",
        "x2 = beta * x1 + gamma\n",
        "# plot manual line\n",
        "pyplot.plot(x1, x2, \"m-\", label=\"manual line\")\n",
        "\n",
        "# compute line parameters for optimized line\n",
        "beta, gamma = line_parameters(w_star)\n",
        "# now, compute the values according to our parametric form:\n",
        "x2 = beta * x1 + gamma\n",
        "# plot optimized line\n",
        "pyplot.plot(x1, x2, \"b-\", label=\"optimized line\")\n",
        "\n",
        "# make the plot more beautiful\n",
        "pyplot.legend()\n",
        "pyplot.grid()"
      ]
    }
  ],
  "metadata": {
    "kernelspec": {
      "display_name": "DL",
      "language": "python",
      "name": "python3"
    },
    "language_info": {
      "codemirror_mode": {
        "name": "ipython",
        "version": 3
      },
      "file_extension": ".py",
      "mimetype": "text/x-python",
      "name": "python",
      "nbconvert_exporter": "python",
      "pygments_lexer": "ipython3",
      "version": "3.8.13"
    },
    "orig_nbformat": 4,
    "vscode": {
      "interpreter": {
        "hash": "a29cabff5744fce69e08a959ab87b9e77a9f67b498d08783caa8c3bb16f23a00"
      }
    },
    "colab": {
      "provenance": []
    }
  },
  "nbformat": 4,
  "nbformat_minor": 0
}